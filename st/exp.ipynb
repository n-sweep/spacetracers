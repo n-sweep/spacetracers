{
 "cells": [
  {
   "cell_type": "code",
   "execution_count": null,
   "id": "719e1212",
   "metadata": {},
   "outputs": [],
   "source": [
    "import os\n",
    "# import plotly.express as px\n",
    "# import plotly.graph_objs as go\n",
    "import plotly.io as pio\n",
    "import pandas as pd\n",
    "import requests\n",
    "\n",
    "# plotly setup\n",
    "pio.renderers.default = 'notebook'\n",
    "pd.options.plotting.backend = 'plotly'\n",
    "\n",
    "\n",
    "def pwrite(fig, plt='/tmp/vis/plot.json'):\n",
    "    fig = fig.update_layout(autosize=False)\n",
    "    fig.write_json(plt)\n",
    "\n",
    "\n",
    "def ensure_directory(dir):\n",
    "    \"\"\" ensure the directory exists \"\"\"\n",
    "    if os.path.isfile(dir):\n",
    "        dir = os.path.dirname(dir)\n",
    "    if not os.path.exists(dir):\n",
    "        os.makedirs(dir)"
   ]
  },
  {
   "cell_type": "markdown",
   "id": "0568d48a",
   "metadata": {},
   "source": [
    "# SpaceTraders"
   ]
  },
  {
   "cell_type": "code",
   "execution_count": null,
   "id": "c4c89573",
   "metadata": {},
   "outputs": [],
   "source": [
    "callsign = 'API_T3ST'\n",
    "faction = 'COSMIC'\n",
    "base_url = 'https://api.spacetraders.io/v2'\n",
    "token_fp = os.path.expanduser('~/.config/st/tokens')\n",
    "ensure_directory(token_fp)"
   ]
  },
  {
   "cell_type": "code",
   "execution_count": null,
   "id": "721c5f6e",
   "metadata": {},
   "outputs": [],
   "source": [
    "# registering a new agent\n",
    "res = requests.post(\n",
    "    os.path.join(base_url, 'register'),\n",
    "    headers={'Content-Type': 'application/json'},\n",
    "    data={\n",
    "        'symbol': callsign,\n",
    "        'faction': faction\n",
    "    }\n",
    ")\n",
    "if res.ok:\n",
    "    data = res.json()['data']\n",
    "    with open(os.path.join(token_fp, callsign), 'w+') as f:\n",
    "        f.write(data['token'])"
   ]
  },
  {
   "cell_type": "code",
   "execution_count": null,
   "id": "4ea57488",
   "metadata": {},
   "outputs": [],
   "source": [
    "# reading token by agent callsign\n",
    "with open(os.path.join(token_fp, callsign), 'r') as f:\n",
    "    token = f.read()"
   ]
  },
  {
   "cell_type": "code",
   "execution_count": null,
   "id": "40c5c084",
   "metadata": {},
   "outputs": [],
   "source": [
    "# get agent\n",
    "res = requests.get(\n",
    "    os.path.join(base_url, 'my/agent'),\n",
    "    headers={'Authorization': f'Bearer {token}'}\n",
    ")\n",
    "res"
   ]
  },
  {
   "cell_type": "code",
   "execution_count": null,
   "id": "72b29de7",
   "metadata": {},
   "outputs": [],
   "source": [
    "agent = res.json()['data']\n",
    "agent"
   ]
  },
  {
   "cell_type": "code",
   "execution_count": null,
   "id": "01d2eea3",
   "metadata": {},
   "outputs": [],
   "source": [
    "hq = agent['headquarters']\n",
    "hq_split = hq.split('-')\n",
    "hq_sector = hq_split[0]\n",
    "hq_system = '-'.join(hq_split[:2])"
   ]
  },
  {
   "cell_type": "code",
   "execution_count": null,
   "id": "30843524",
   "metadata": {},
   "outputs": [],
   "source": [
    "# view your starting location\n",
    "res = requests.get(\n",
    "    os.path.join(base_url, 'systems', hq_system, 'waypoints', hq),\n",
    "    headers={'Content-Type': 'application/json'},\n",
    ")\n",
    "res"
   ]
  },
  {
   "cell_type": "code",
   "execution_count": null,
   "id": "28513d0b",
   "metadata": {},
   "outputs": [],
   "source": [
    "res.json()"
   ]
  },
  {
   "cell_type": "code",
   "execution_count": null,
   "id": "459219de",
   "metadata": {},
   "outputs": [],
   "source": [
    "# view contracts\n",
    "res = requests.get(\n",
    "    os.path.join(base_url, 'my/contracts'),\n",
    "    headers={'Authorization': f'Bearer {token}'}\n",
    ")\n",
    "contracts = res.json()['data']\n",
    "contracts"
   ]
  },
  {
   "cell_type": "code",
   "execution_count": null,
   "id": "6ca0edb1",
   "metadata": {},
   "outputs": [],
   "source": [
    "# accept a contract\n",
    "contract = contracts[0]\n",
    "res = requests.post(\n",
    "    os.path.join(base_url, 'my/contracts', contract['id'], 'accept'),\n",
    "    headers={'Authorization': f'Bearer {token}'}\n",
    ")\n",
    "res"
   ]
  },
  {
   "cell_type": "code",
   "execution_count": null,
   "id": "c7019e5e",
   "metadata": {},
   "outputs": [],
   "source": [
    "res.json()"
   ]
  },
  {
   "cell_type": "code",
   "execution_count": null,
   "id": "ff06c3fe",
   "metadata": {},
   "outputs": [],
   "source": [
    "# find a shipyard\n",
    "res = requests.get(\n",
    "    os.path.join(base_url, 'systems', hq_system, 'waypoints'),\n",
    "    params={'traits': 'SHIPYARD'},\n",
    "    headers={'Authorization': f'Bearer {token}'}\n",
    ")\n",
    "res"
   ]
  },
  {
   "cell_type": "code",
   "execution_count": null,
   "id": "22c7d804",
   "metadata": {},
   "outputs": [],
   "source": [
    "shipyards = res.json()['data']"
   ]
  },
  {
   "cell_type": "code",
   "execution_count": null,
   "id": "fed8acef",
   "metadata": {},
   "outputs": [],
   "source": [
    "# view available ships\n",
    "res = requests.get(\n",
    "    os.path.join(\n",
    "        base_url,\n",
    "        'systems',\n",
    "        hq_system,\n",
    "        'waypoints',\n",
    "        shipyards[1]['symbol'],\n",
    "        'shipyard'\n",
    "    ),\n",
    ")\n",
    "res.json()['data']"
   ]
  },
  {
   "cell_type": "code",
   "execution_count": null,
   "id": "aa2c7ce9",
   "metadata": {},
   "outputs": [],
   "source": [
    "# purchase a ship\n",
    "res = requests.post(\n",
    "    os.path.join(base_url, 'my/ships'),\n",
    "    headers={\n",
    "        'Authorization': f'Bearer {token}',\n",
    "        'Content-Type': 'application/json'\n",
    "    },\n",
    "    json={\n",
    "        'shipType': 'SHIP_MINING_DRONE',\n",
    "        'waypointSymbol': shipyards[1]['symbol'],\n",
    "    }\n",
    ")\n",
    "res"
   ]
  },
  {
   "cell_type": "code",
   "execution_count": null,
   "id": "1f934c5c",
   "metadata": {},
   "outputs": [],
   "source": [
    "res.json()['data']"
   ]
  },
  {
   "cell_type": "code",
   "execution_count": null,
   "id": "f4f6e316",
   "metadata": {},
   "outputs": [],
   "source": [
    "# find nearby asteroid\n",
    "res = requests.get(\n",
    "    os.path.join(base_url, 'systems', hq_system, 'waypoints'),\n",
    "    params={'type': 'ENGINEERED_ASTEROID'},\n",
    "    headers={'Authorization': f'Bearer {token}'}\n",
    ")\n",
    "res"
   ]
  },
  {
   "cell_type": "code",
   "execution_count": null,
   "id": "fbb78396",
   "metadata": {},
   "outputs": [],
   "source": [
    "asteroid = res.json()['data'][0]"
   ]
  },
  {
   "cell_type": "code",
   "execution_count": null,
   "id": "87401bda",
   "metadata": {},
   "outputs": [],
   "source": [
    "# (view all ships)\n",
    "res = requests.get(\n",
    "    os.path.join(base_url, 'my/ships'),\n",
    "    headers={'Authorization': f'Bearer {token}'},\n",
    ")\n",
    "res"
   ]
  },
  {
   "cell_type": "code",
   "execution_count": null,
   "id": "f29942b7",
   "metadata": {},
   "outputs": [],
   "source": [
    "ships = res.json()['data']\n",
    "for ship in ships:\n",
    "    print(ship['symbol'], ship['frame']['symbol'], ship['mounts'])"
   ]
  },
  {
   "cell_type": "code",
   "execution_count": null,
   "id": "26fbc90f",
   "metadata": {},
   "outputs": [],
   "source": [
    "# fly to the asteroid\n",
    "\n",
    "# orbit the ship at the current location\n",
    "res = requests.post(\n",
    "    os.path.join(base_url, 'my/ships', ships[2]['symbol'], 'orbit'),\n",
    "    headers={'Authorization': f'Bearer {token}'},\n",
    ")\n",
    "res.json()['data']"
   ]
  },
  {
   "cell_type": "code",
   "execution_count": null,
   "id": "9f623014",
   "metadata": {},
   "outputs": [],
   "source": [
    "# navigate to the asteroid\n",
    "res = requests.post(\n",
    "    os.path.join(base_url, 'my/ships', ships[2]['symbol'], 'navigate'),\n",
    "    headers={\n",
    "        'Authorization': f'Bearer {token}',\n",
    "        'Content-Type': 'application/json'\n",
    "    },\n",
    "    json={'waypointSymbol': asteroid['symbol']},\n",
    ")\n",
    "res"
   ]
  },
  {
   "cell_type": "code",
   "execution_count": null,
   "id": "8b66f0d0",
   "metadata": {},
   "outputs": [],
   "source": [
    "res.json()['data']"
   ]
  },
  {
   "cell_type": "code",
   "execution_count": null,
   "id": "61195212",
   "metadata": {},
   "outputs": [],
   "source": [
    "# dock the ship\n",
    "res = requests.post(\n",
    "    os.path.join(base_url, 'my/ships', ships[2]['symbol'], 'dock'),\n",
    "    headers={'Authorization': f'Bearer {token}'},\n",
    ")\n",
    "res"
   ]
  },
  {
   "cell_type": "code",
   "execution_count": null,
   "id": "ce4f431c",
   "metadata": {},
   "outputs": [],
   "source": [
    "res.json()['data']"
   ]
  },
  {
   "cell_type": "code",
   "execution_count": null,
   "id": "0db53069",
   "metadata": {},
   "outputs": [],
   "source": [
    "# refuel the ship\n",
    "res = requests.post(\n",
    "    os.path.join(base_url, 'my/ships', ships[2]['symbol'], 'refuel'),\n",
    "    headers={'Authorization': f'Bearer {token}'},\n",
    ")\n",
    "res"
   ]
  },
  {
   "cell_type": "code",
   "execution_count": null,
   "id": "dcee29ee",
   "metadata": {},
   "outputs": [],
   "source": [
    "res.json()['data']"
   ]
  },
  {
   "cell_type": "code",
   "execution_count": null,
   "id": "23f03ba1",
   "metadata": {},
   "outputs": [],
   "source": [
    "# orbit ship again\n",
    "res = requests.post(\n",
    "    os.path.join(base_url, 'my/ships', ships[2]['symbol'], 'orbit'),\n",
    "    headers={'Authorization': f'Bearer {token}'},\n",
    ")\n",
    "res.json()['data']"
   ]
  },
  {
   "cell_type": "code",
   "execution_count": null,
   "id": "2bef8361",
   "metadata": {},
   "outputs": [],
   "source": [
    "# extract ores & minerals\n",
    "res = requests.post(\n",
    "    os.path.join(base_url, 'my/ships', ships[2]['symbol'], 'extract'),\n",
    "    headers={'Authorization': f'Bearer {token}'},\n",
    ")\n",
    "res.json()['data']"
   ]
  },
  {
   "cell_type": "code",
   "execution_count": null,
   "id": "0938610e",
   "metadata": {},
   "outputs": [],
   "source": [
    "# view market data\n",
    "res = requests.get(\n",
    "    os.path.join(\n",
    "        base_url,\n",
    "        'systems',\n",
    "        hq_system,\n",
    "        'waypoints',\n",
    "        asteroid['symbol'],\n",
    "        'market'\n",
    "    ),\n",
    "    headers={'Authorization': f'Bearer {token}'}\n",
    ")\n",
    "res.json()['data']"
   ]
  },
  {
   "cell_type": "code",
   "execution_count": null,
   "id": "aef22c22",
   "metadata": {},
   "outputs": [],
   "source": [
    "# list ship cargo\n",
    "res = requests.get(\n",
    "    os.path.join(base_url, 'my/ships', ships[2]['symbol'], 'cargo'),\n",
    "    headers={'Authorization': f'Bearer {token}'},\n",
    ")\n",
    "cargo = res.json()['data']\n",
    "cargo"
   ]
  },
  {
   "cell_type": "code",
   "execution_count": null,
   "id": "539649b6",
   "metadata": {},
   "outputs": [],
   "source": [
    "# sell goods\n",
    "\n",
    "# dock the ship\n",
    "res = requests.post(\n",
    "    os.path.join(base_url, 'my/ships', ships[2]['symbol'], 'dock'),\n",
    "    headers={'Authorization': f'Bearer {token}'},\n",
    ")"
   ]
  },
  {
   "cell_type": "code",
   "execution_count": null,
   "id": "ad5fbd2b",
   "metadata": {},
   "outputs": [],
   "source": [
    "# sell goods\n",
    "res = requests.post(\n",
    "    os.path.join(\n",
    "        base_url,\n",
    "        'my/ships',\n",
    "        ships[2]['symbol'],\n",
    "        'sell'\n",
    "    ),\n",
    "    headers={\n",
    "        'Authorization': f'Bearer {token}',\n",
    "        'Content-Type': 'application/json'\n",
    "    },\n",
    "    json={\n",
    "        'symbol': 'IRON_ORE',\n",
    "        'units': 100\n",
    "    }\n",
    ")"
   ]
  },
  {
   "cell_type": "code",
   "execution_count": null,
   "id": "803bfaf5",
   "metadata": {},
   "outputs": [],
   "source": [
    "# navigate to delivery waypoint\n",
    "res = requests.get(\n",
    "    os.path.join(base_url, 'my/ships', ships[2]['symbol'], 'navigate'),\n",
    "    headers={\n",
    "        'Authorization': f'Bearer {token}',\n",
    "        'Content-Type': 'application/json'\n",
    "    },\n",
    "    json={'waypointSymbol': contracts[0]['deliver'][0]['destinationSymbol']},\n",
    ")\n",
    "res.json()['data']"
   ]
  },
  {
   "cell_type": "code",
   "execution_count": null,
   "id": "086ad230",
   "metadata": {},
   "outputs": [],
   "source": [
    "# deliver contract goods\n",
    "res = requests.post(\n",
    "    os.path.join(\n",
    "        base_url,\n",
    "        'my/contracts',\n",
    "        contracts[0]['id'],\n",
    "        'deliver'\n",
    "    ),\n",
    "    headers={\n",
    "        'Authorization': f'Bearer {token}',\n",
    "        'Content-Type': 'application/json'\n",
    "    },\n",
    "    json={\n",
    "        'shipSymbol': ships[2]['symbol'],\n",
    "        'tradeSymbol': contracts[0]['deliver'][0]['tradeSymbol'],\n",
    "    },\n",
    ")\n",
    "res.json()['data']"
   ]
  },
  {
   "cell_type": "code",
   "execution_count": null,
   "id": "2245df8f",
   "metadata": {},
   "outputs": [],
   "source": [
    "# fulfill contract\n",
    "res = requests.post(\n",
    "    os.path.join(\n",
    "        base_url,\n",
    "        'my/contracts',\n",
    "        contracts[0]['id'],\n",
    "        'fulfill'\n",
    "    ),\n",
    "    headers={'Authorization': f'Bearer {token}'}\n",
    ")"
   ]
  },
  {
   "cell_type": "code",
   "execution_count": null,
   "id": "78ec46ad",
   "metadata": {
    "lines_to_next_cell": 0
   },
   "outputs": [],
   "source": []
  },
  {
   "cell_type": "code",
   "execution_count": null,
   "id": "a7e4254d",
   "metadata": {
    "lines_to_next_cell": 0
   },
   "outputs": [],
   "source": []
  },
  {
   "cell_type": "code",
   "execution_count": null,
   "id": "f8f6d559",
   "metadata": {
    "lines_to_next_cell": 0
   },
   "outputs": [],
   "source": []
  },
  {
   "cell_type": "code",
   "execution_count": null,
   "id": "0b1a8c61",
   "metadata": {
    "lines_to_next_cell": 0
   },
   "outputs": [],
   "source": []
  },
  {
   "cell_type": "code",
   "execution_count": null,
   "id": "a8344de3",
   "metadata": {
    "lines_to_next_cell": 0
   },
   "outputs": [],
   "source": []
  },
  {
   "cell_type": "code",
   "execution_count": null,
   "id": "3240707e",
   "metadata": {
    "lines_to_next_cell": 0
   },
   "outputs": [],
   "source": []
  },
  {
   "cell_type": "code",
   "execution_count": null,
   "id": "e879ad71",
   "metadata": {
    "lines_to_next_cell": 0
   },
   "outputs": [],
   "source": []
  },
  {
   "cell_type": "code",
   "execution_count": null,
   "id": "cccb9c70",
   "metadata": {
    "lines_to_next_cell": 0
   },
   "outputs": [],
   "source": []
  },
  {
   "cell_type": "code",
   "execution_count": null,
   "id": "028a11f9",
   "metadata": {
    "lines_to_next_cell": 0
   },
   "outputs": [],
   "source": []
  },
  {
   "cell_type": "code",
   "execution_count": null,
   "id": "fee1282b",
   "metadata": {
    "lines_to_next_cell": 0
   },
   "outputs": [],
   "source": []
  },
  {
   "cell_type": "code",
   "execution_count": null,
   "id": "31f8b23e",
   "metadata": {
    "lines_to_next_cell": 0
   },
   "outputs": [],
   "source": []
  },
  {
   "cell_type": "code",
   "execution_count": null,
   "id": "222c7f32",
   "metadata": {
    "lines_to_next_cell": 0
   },
   "outputs": [],
   "source": []
  },
  {
   "cell_type": "code",
   "execution_count": null,
   "id": "6682d701",
   "metadata": {
    "lines_to_next_cell": 0
   },
   "outputs": [],
   "source": []
  },
  {
   "cell_type": "code",
   "execution_count": null,
   "id": "917d24d8",
   "metadata": {
    "lines_to_next_cell": 0
   },
   "outputs": [],
   "source": []
  },
  {
   "cell_type": "code",
   "execution_count": null,
   "id": "c6ee254e",
   "metadata": {
    "lines_to_next_cell": 0
   },
   "outputs": [],
   "source": []
  },
  {
   "cell_type": "code",
   "execution_count": null,
   "id": "d5d6cde9",
   "metadata": {
    "lines_to_next_cell": 0
   },
   "outputs": [],
   "source": []
  },
  {
   "cell_type": "code",
   "execution_count": null,
   "id": "46ac5601",
   "metadata": {
    "lines_to_next_cell": 0
   },
   "outputs": [],
   "source": []
  },
  {
   "cell_type": "code",
   "execution_count": null,
   "id": "d7ee9fe0",
   "metadata": {
    "lines_to_next_cell": 0
   },
   "outputs": [],
   "source": []
  },
  {
   "cell_type": "code",
   "execution_count": null,
   "id": "07984e79",
   "metadata": {
    "lines_to_next_cell": 0
   },
   "outputs": [],
   "source": []
  },
  {
   "cell_type": "code",
   "execution_count": null,
   "id": "0a9713f9",
   "metadata": {
    "lines_to_next_cell": 0
   },
   "outputs": [],
   "source": []
  },
  {
   "cell_type": "code",
   "execution_count": null,
   "id": "6172a30e",
   "metadata": {
    "lines_to_next_cell": 0
   },
   "outputs": [],
   "source": []
  },
  {
   "cell_type": "code",
   "execution_count": null,
   "id": "96d6e8e0",
   "metadata": {
    "lines_to_next_cell": 0
   },
   "outputs": [],
   "source": []
  },
  {
   "cell_type": "code",
   "execution_count": null,
   "id": "b4e50785",
   "metadata": {
    "lines_to_next_cell": 0
   },
   "outputs": [],
   "source": []
  },
  {
   "cell_type": "code",
   "execution_count": null,
   "id": "5147ee01",
   "metadata": {
    "lines_to_next_cell": 0
   },
   "outputs": [],
   "source": []
  },
  {
   "cell_type": "code",
   "execution_count": null,
   "id": "8168c4e4",
   "metadata": {
    "lines_to_next_cell": 0
   },
   "outputs": [],
   "source": []
  },
  {
   "cell_type": "code",
   "execution_count": null,
   "id": "0c56bc6a",
   "metadata": {
    "lines_to_next_cell": 0
   },
   "outputs": [],
   "source": []
  },
  {
   "cell_type": "code",
   "execution_count": null,
   "id": "e564dabd",
   "metadata": {
    "lines_to_next_cell": 0
   },
   "outputs": [],
   "source": []
  },
  {
   "cell_type": "code",
   "execution_count": null,
   "id": "1cc24d2d",
   "metadata": {
    "lines_to_next_cell": 0
   },
   "outputs": [],
   "source": []
  },
  {
   "cell_type": "code",
   "execution_count": null,
   "id": "da85577a",
   "metadata": {
    "lines_to_next_cell": 0
   },
   "outputs": [],
   "source": []
  },
  {
   "cell_type": "code",
   "execution_count": null,
   "id": "4a4464a7",
   "metadata": {
    "lines_to_next_cell": 0
   },
   "outputs": [],
   "source": []
  },
  {
   "cell_type": "code",
   "execution_count": null,
   "id": "8c4678a4",
   "metadata": {
    "lines_to_next_cell": 0
   },
   "outputs": [],
   "source": []
  },
  {
   "cell_type": "code",
   "execution_count": null,
   "id": "d034d3c0",
   "metadata": {
    "lines_to_next_cell": 0
   },
   "outputs": [],
   "source": []
  },
  {
   "cell_type": "code",
   "execution_count": null,
   "id": "00099170",
   "metadata": {
    "lines_to_next_cell": 0
   },
   "outputs": [],
   "source": []
  },
  {
   "cell_type": "code",
   "execution_count": null,
   "id": "448a5d4f",
   "metadata": {
    "lines_to_next_cell": 0
   },
   "outputs": [],
   "source": []
  },
  {
   "cell_type": "code",
   "execution_count": null,
   "id": "2eba666d",
   "metadata": {
    "lines_to_next_cell": 0
   },
   "outputs": [],
   "source": []
  },
  {
   "cell_type": "code",
   "execution_count": null,
   "id": "2538fc56",
   "metadata": {
    "lines_to_next_cell": 0
   },
   "outputs": [],
   "source": []
  },
  {
   "cell_type": "code",
   "execution_count": null,
   "id": "142a2570",
   "metadata": {
    "lines_to_next_cell": 0
   },
   "outputs": [],
   "source": []
  },
  {
   "cell_type": "code",
   "execution_count": null,
   "id": "81d8d96b",
   "metadata": {
    "lines_to_next_cell": 0
   },
   "outputs": [],
   "source": []
  },
  {
   "cell_type": "code",
   "execution_count": null,
   "id": "56ef3cc0",
   "metadata": {
    "lines_to_next_cell": 0
   },
   "outputs": [],
   "source": []
  },
  {
   "cell_type": "code",
   "execution_count": null,
   "id": "6a14b183",
   "metadata": {
    "lines_to_next_cell": 0
   },
   "outputs": [],
   "source": []
  },
  {
   "cell_type": "code",
   "execution_count": null,
   "id": "827ba52d",
   "metadata": {
    "lines_to_next_cell": 0
   },
   "outputs": [],
   "source": []
  },
  {
   "cell_type": "code",
   "execution_count": null,
   "id": "3c9323c7",
   "metadata": {
    "lines_to_next_cell": 0
   },
   "outputs": [],
   "source": []
  },
  {
   "cell_type": "code",
   "execution_count": null,
   "id": "22778101",
   "metadata": {
    "lines_to_next_cell": 0
   },
   "outputs": [],
   "source": []
  },
  {
   "cell_type": "code",
   "execution_count": null,
   "id": "6607f249",
   "metadata": {
    "lines_to_next_cell": 0
   },
   "outputs": [],
   "source": []
  },
  {
   "cell_type": "code",
   "execution_count": null,
   "id": "38a1fc30",
   "metadata": {
    "lines_to_next_cell": 0
   },
   "outputs": [],
   "source": []
  },
  {
   "cell_type": "code",
   "execution_count": null,
   "id": "5d145957",
   "metadata": {
    "lines_to_next_cell": 0
   },
   "outputs": [],
   "source": []
  },
  {
   "cell_type": "code",
   "execution_count": null,
   "id": "233a06d2",
   "metadata": {
    "lines_to_next_cell": 0
   },
   "outputs": [],
   "source": []
  },
  {
   "cell_type": "code",
   "execution_count": null,
   "id": "56f71184",
   "metadata": {},
   "outputs": [],
   "source": []
  }
 ],
 "metadata": {
  "kernelspec": {
   "display_name": "Python3",
   "language": "python",
   "name": "Python3"
  }
 },
 "nbformat": 4,
 "nbformat_minor": 5
}
